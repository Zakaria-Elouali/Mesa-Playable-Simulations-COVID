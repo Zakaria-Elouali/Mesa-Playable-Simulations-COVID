{
 "cells": [
  {
   "cell_type": "code",
   "id": "e48ce841e97824e0",
   "metadata": {},
   "source": [
    "from mesa import Agent, Model\n",
    "from mesa.time import RandomActivation\n",
    "from mesa.time import SimultaneousActivation\n",
    "from mesa.space import MultiGrid\n",
    "from mesa.space import SingleGrid\n",
    "from mesa.datacollection import DataCollector\n",
    "from mesa.visualization.modules import CanvasGrid\n",
    "from mesa.visualization.ModularVisualization import ModularServer\n",
    "from mesa.visualization.UserParam import Slider"
   ],
   "outputs": [],
   "execution_count": 1
  },
  {
   "cell_type": "code",
   "id": "b0cb8cb2-0d74-4a2f-8a2e-50e52ca521c6",
   "metadata": {
    "ExecuteTime": {
     "end_time": "2024-06-02T14:45:38.776040Z",
     "start_time": "2024-06-02T14:45:38.377760Z"
    }
   },
   "source": [
    "import psutil\n",
    "def kill_process_using_port(port):\n",
    "    for proc in psutil.process_iter(['pid', 'name', 'connections']):\n",
    "        for conn in proc.info['connections']:\n",
    "            if conn.laddr.port == port:\n",
    "                try:\n",
    "                    print(f\"Killing process {proc.info['pid']} ({proc.info['name']}) using port {port}\")\n",
    "                    proc.terminate()\n",
    "                    proc.wait()\n",
    "                    return\n",
    "                except (psutil.NoSuchProcess, psutil.AccessDenied):\n",
    "                    print(f\"Could not terminate process {proc.info['pid']} ({proc.info['name']})\")\n",
    "\n",
    "port = 8527\n",
    "kill_process_using_port(port)"
   ],
   "outputs": [],
   "execution_count": 2
  },
  {
   "cell_type": "code",
   "id": "be75be2eb4b35213",
   "metadata": {
    "ExecuteTime": {
     "end_time": "2024-06-02T14:45:38.784064Z",
     "start_time": "2024-06-02T14:45:38.776040Z"
    }
   },
   "source": [
    "import random\n",
    "\n",
    "SUSCEPTIBLE = 0\n",
    "ASYMPTOMATIC = 1  # Infected but no symptoms yet (incubation period)\n",
    "SYMPTOMATIC = 2   # Infected with symptoms\n",
    "RECOVERED = 3\n",
    "DEAD = 4  \n",
    "\n",
    "class Person(Agent):\n",
    "    \"\"\"An agent representing a single person in the grid.\"\"\"\n",
    "    def __init__(self, pos, model):\n",
    "        super().__init__(pos, model)\n",
    "        self.pos = pos\n",
    "        self.state = SUSCEPTIBLE\n",
    "        self.incubation_time = 0\n",
    "        self.symptom_time = 0\n",
    "        self.next_state = self.state\n",
    "\n",
    "    def step(self):\n",
    "        if self.state in [ASYMPTOMATIC, SYMPTOMATIC]:\n",
    "            neighbors = self.model.grid.get_neighbors(self.pos, moore=True, include_center=False, radius=self.model.travel_radius)\n",
    "            encounters = random.sample(neighbors, min(len(neighbors), self.model.encounters_per_day))\n",
    "            for neighbor in encounters:\n",
    "                if neighbor.state == SUSCEPTIBLE and random.random() < self.model.transmission_rate:\n",
    "                    neighbor.next_state = ASYMPTOMATIC\n",
    "                    neighbor.incubation_time = self.model.incubation_period\n",
    "\n",
    "            if self.state == ASYMPTOMATIC:\n",
    "                self.incubation_time -= 1\n",
    "                if self.incubation_time <= 0:\n",
    "                    self.next_state = SYMPTOMATIC\n",
    "                    self.symptom_time = self.model.symptom_period\n",
    "            elif self.state == SYMPTOMATIC:\n",
    "                self.symptom_time -= 1\n",
    "                if self.symptom_time <= 0:\n",
    "                    if random.random() < self.model.fatality_rate:\n",
    "                        self.next_state = DEAD\n",
    "                    else:\n",
    "                        self.next_state = RECOVERED\n",
    "\n",
    "    def advance(self):\n",
    "        self.state = self.next_state"
   ],
   "outputs": [],
   "execution_count": 3
  },
  {
   "cell_type": "code",
   "id": "320d416c6d7f715e",
   "metadata": {
    "tags": [],
    "ExecuteTime": {
     "end_time": "2024-06-02T14:45:38.793421Z",
     "start_time": "2024-06-02T14:45:38.784064Z"
    }
   },
   "source": [
    "class DiseaseModel(Model):\n",
    "    \"\"\"A model with some number of agents.\"\"\"\n",
    "    def __init__(self, width, height, density, initial_infected, incubation_period, symptom_period,transmission_rate,travel_radius,encounters_per_day,fatality_rate):\n",
    "        super().__init__()\n",
    "        self.num_agents = width * height\n",
    "        self.grid = SingleGrid(width, height, torus=True)\n",
    "        self.schedule = SimultaneousActivation(self)\n",
    "        self.incubation_period = incubation_period\n",
    "        self.symptom_period = symptom_period\n",
    "        self.transmission_rate = transmission_rate\n",
    "        self.travel_radius = travel_radius\n",
    "        self.encounters_per_day = encounters_per_day\n",
    "        self.fatality_rate = fatality_rate\n",
    "\n",
    "        for content, (x, y) in self.grid.coord_iter():\n",
    "            agent = Person((x, y), self)\n",
    "            self.grid.place_agent(agent, (x, y))\n",
    "            self.schedule.add(agent)\n",
    "\n",
    "        self.running = True\n",
    "        \n",
    "        center_x, center_y = width // 2, height // 2\n",
    "        center_agent = self.grid.get_cell_list_contents([(center_x, center_y)])[0]\n",
    "        center_agent.state = ASYMPTOMATIC\n",
    "        center_agent.incubation_time = incubation_period\n",
    "\n",
    "    def step(self):\n",
    "        self.schedule.step()"
   ],
   "outputs": [],
   "execution_count": 4
  },
  {
   "cell_type": "code",
   "id": "395060f9-34ab-4ceb-986e-c02312e7065d",
   "metadata": {
    "ExecuteTime": {
     "end_time": "2024-06-02T14:45:39.921510Z",
     "start_time": "2024-06-02T14:45:38.793421Z"
    }
   },
   "source": [
    "def agent_portrayal(agent):\n",
    "    portrayal = {\"Shape\": \"rect\", \"w\": 1, \"h\": 1,\"Filled\": \"True\",\n",
    "                 \"Layer\": 0}\n",
    "    if agent.state == SUSCEPTIBLE:\n",
    "        portrayal[\"Color\"] = \"white\"\n",
    "    elif agent.state == ASYMPTOMATIC:\n",
    "        portrayal[\"Color\"] = \"pink\"\n",
    "    elif agent.state == SYMPTOMATIC:\n",
    "        portrayal[\"Color\"] = \"red\"\n",
    "    elif agent.state == RECOVERED:\n",
    "        portrayal[\"Color\"] = \"gray\"\n",
    "    elif agent.state == DEAD:\n",
    "        portrayal[\"Color\"] = \"black\"\n",
    "    return portrayal\n",
    "\n",
    "grid = CanvasGrid(agent_portrayal, 100, 100, 600, 600)\n",
    "# Now you can launch your server\n",
    "server = ModularServer(DiseaseModel,\n",
    "                       [grid],\n",
    "                       \"Disease Model (Death)\",\n",
    "                       {\"width\": 100,\n",
    "                        \"height\": 100,\n",
    "                        \"density\": Slider(\"Initial infected\", 0.8, 0.1, 1.0, 0.1),\n",
    "                        \"initial_infected\": Slider(\"Infection rate\", 1, 0, 10, 1),\n",
    "                        \"incubation_period\": Slider(\"Incubation period\", 2, 0, 10, 1),\n",
    "                        \"symptom_period\": Slider('Symptom Period', 8, 1, 20, 1),\n",
    "                        \"transmission_rate\": Slider(\"Transmission rate\", 0.3, 0.0, 1.0, 0.01),\n",
    "                        \"travel_radius\": Slider(\"Travel radius\", 5, 1, 25, 1),\n",
    "                        \"encounters_per_day\" : Slider(\"Encounters Per Day\", 10, 1, 50, 1),\n",
    "                        \"fatality_rate\" : Slider(\"Fatality Rate\", 0.03, 0.0, 0.1, 0.01)\n",
    "                       })\n",
    "server.port = port\n",
    "server.launch()\n"
   ],
   "outputs": [
    {
     "name": "stderr",
     "output_type": "stream",
     "text": [
      "IOPub data rate exceeded.\n",
      "The notebook server will temporarily stop sending output\n",
      "to the client in order to avoid crashing it.\n",
      "To change this limit, set the config variable\n",
      "`--NotebookApp.iopub_data_rate_limit`.\n",
      "\n",
      "Current values:\n",
      "NotebookApp.iopub_data_rate_limit=1000000.0 (bytes/sec)\n",
      "NotebookApp.rate_limit_window=3.0 (secs)\n",
      "\n"
     ]
    },
    {
     "name": "stdout",
     "output_type": "stream",
     "text": [
      "Interface starting at http://127.0.0.1:8527\n"
     ]
    },
    {
     "ename": "AssertionError",
     "evalue": "",
     "output_type": "error",
     "traceback": [
      "\u001B[1;31m---------------------------------------------------------------------------\u001B[0m",
      "\u001B[1;31mAssertionError\u001B[0m                            Traceback (most recent call last)",
      "Cell \u001B[1;32mIn[5], line 33\u001B[0m\n\u001B[0;32m     18\u001B[0m server \u001B[38;5;241m=\u001B[39m ModularServer(DiseaseModel,\n\u001B[0;32m     19\u001B[0m                        [grid],\n\u001B[0;32m     20\u001B[0m                        \u001B[38;5;124m\"\u001B[39m\u001B[38;5;124mDisease Model (Death)\u001B[39m\u001B[38;5;124m\"\u001B[39m,\n\u001B[1;32m   (...)\u001B[0m\n\u001B[0;32m     30\u001B[0m                         \u001B[38;5;124m\"\u001B[39m\u001B[38;5;124mfatality_rate\u001B[39m\u001B[38;5;124m\"\u001B[39m : Slider(\u001B[38;5;124m\"\u001B[39m\u001B[38;5;124mFatality Rate\u001B[39m\u001B[38;5;124m\"\u001B[39m, \u001B[38;5;241m0.03\u001B[39m, \u001B[38;5;241m0.0\u001B[39m, \u001B[38;5;241m0.1\u001B[39m, \u001B[38;5;241m0.01\u001B[39m)\n\u001B[0;32m     31\u001B[0m                        })\n\u001B[0;32m     32\u001B[0m server\u001B[38;5;241m.\u001B[39mport \u001B[38;5;241m=\u001B[39m port\n\u001B[1;32m---> 33\u001B[0m server\u001B[38;5;241m.\u001B[39mlaunch()\n",
      "File \u001B[1;32m~\\AppData\\Roaming\\Python\\Python311\\site-packages\\mesa_viz_tornado\\ModularVisualization.py:407\u001B[0m, in \u001B[0;36mModularServer.launch\u001B[1;34m(self, port, open_browser)\u001B[0m\n\u001B[0;32m    405\u001B[0m tornado\u001B[38;5;241m.\u001B[39mautoreload\u001B[38;5;241m.\u001B[39mstart()\n\u001B[0;32m    406\u001B[0m \u001B[38;5;28;01mtry\u001B[39;00m:\n\u001B[1;32m--> 407\u001B[0m     tornado\u001B[38;5;241m.\u001B[39mioloop\u001B[38;5;241m.\u001B[39mIOLoop\u001B[38;5;241m.\u001B[39mcurrent()\u001B[38;5;241m.\u001B[39mstart()\n\u001B[0;32m    408\u001B[0m \u001B[38;5;28;01mexcept\u001B[39;00m \u001B[38;5;167;01mKeyboardInterrupt\u001B[39;00m:\n\u001B[0;32m    409\u001B[0m     tornado\u001B[38;5;241m.\u001B[39mioloop\u001B[38;5;241m.\u001B[39mIOLoop\u001B[38;5;241m.\u001B[39mcurrent()\u001B[38;5;241m.\u001B[39mstop()\n",
      "File \u001B[1;32m~\\.conda\\envs\\Study\\Lib\\site-packages\\tornado\\platform\\asyncio.py:195\u001B[0m, in \u001B[0;36mBaseAsyncIOLoop.start\u001B[1;34m(self)\u001B[0m\n\u001B[0;32m    194\u001B[0m \u001B[38;5;28;01mdef\u001B[39;00m \u001B[38;5;21mstart\u001B[39m(\u001B[38;5;28mself\u001B[39m) \u001B[38;5;241m-\u001B[39m\u001B[38;5;241m>\u001B[39m \u001B[38;5;28;01mNone\u001B[39;00m:\n\u001B[1;32m--> 195\u001B[0m     \u001B[38;5;28mself\u001B[39m\u001B[38;5;241m.\u001B[39masyncio_loop\u001B[38;5;241m.\u001B[39mrun_forever()\n",
      "File \u001B[1;32m~\\.conda\\envs\\Study\\Lib\\asyncio\\windows_events.py:319\u001B[0m, in \u001B[0;36mProactorEventLoop.run_forever\u001B[1;34m(self)\u001B[0m\n\u001B[0;32m    317\u001B[0m \u001B[38;5;28;01mdef\u001B[39;00m \u001B[38;5;21mrun_forever\u001B[39m(\u001B[38;5;28mself\u001B[39m):\n\u001B[0;32m    318\u001B[0m     \u001B[38;5;28;01mtry\u001B[39;00m:\n\u001B[1;32m--> 319\u001B[0m         \u001B[38;5;28;01massert\u001B[39;00m \u001B[38;5;28mself\u001B[39m\u001B[38;5;241m.\u001B[39m_self_reading_future \u001B[38;5;129;01mis\u001B[39;00m \u001B[38;5;28;01mNone\u001B[39;00m\n\u001B[0;32m    320\u001B[0m         \u001B[38;5;28mself\u001B[39m\u001B[38;5;241m.\u001B[39mcall_soon(\u001B[38;5;28mself\u001B[39m\u001B[38;5;241m.\u001B[39m_loop_self_reading)\n\u001B[0;32m    321\u001B[0m         \u001B[38;5;28msuper\u001B[39m()\u001B[38;5;241m.\u001B[39mrun_forever()\n",
      "\u001B[1;31mAssertionError\u001B[0m: "
     ]
    }
   ],
   "execution_count": 5
  }
 ],
 "metadata": {
  "kernelspec": {
   "display_name": "Python 3 (ipykernel)",
   "language": "python",
   "name": "python3"
  },
  "language_info": {
   "codemirror_mode": {
    "name": "ipython",
    "version": 3
   },
   "file_extension": ".py",
   "mimetype": "text/x-python",
   "name": "python",
   "nbconvert_exporter": "python",
   "pygments_lexer": "ipython3",
   "version": "3.11.7"
  }
 },
 "nbformat": 4,
 "nbformat_minor": 5
}
